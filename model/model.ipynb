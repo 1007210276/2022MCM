{
 "cells": [
  {
   "cell_type": "code",
   "execution_count": 25,
   "metadata": {},
   "outputs": [],
   "source": [
    "import numpy as np\n",
    "import pandas as pd\n",
    "from matplotlib import pyplot as plt\n",
    "import seaborn as sns\n",
    "import data_gen\n",
    "import random"
   ]
  },
  {
   "cell_type": "code",
   "execution_count": 100,
   "metadata": {},
   "outputs": [
    {
     "data": {
      "text/html": [
       "<div>\n",
       "<style scoped>\n",
       "    .dataframe tbody tr th:only-of-type {\n",
       "        vertical-align: middle;\n",
       "    }\n",
       "\n",
       "    .dataframe tbody tr th {\n",
       "        vertical-align: top;\n",
       "    }\n",
       "\n",
       "    .dataframe thead th {\n",
       "        text-align: right;\n",
       "    }\n",
       "</style>\n",
       "<table border=\"1\" class=\"dataframe\">\n",
       "  <thead>\n",
       "    <tr style=\"text-align: right;\">\n",
       "      <th></th>\n",
       "      <th>Value</th>\n",
       "    </tr>\n",
       "    <tr>\n",
       "      <th>Date</th>\n",
       "      <th></th>\n",
       "    </tr>\n",
       "  </thead>\n",
       "  <tbody>\n",
       "    <tr>\n",
       "      <th>2016-09-11</th>\n",
       "      <td>621.65</td>\n",
       "    </tr>\n",
       "    <tr>\n",
       "      <th>2016-09-12</th>\n",
       "      <td>609.67</td>\n",
       "    </tr>\n",
       "    <tr>\n",
       "      <th>2016-09-13</th>\n",
       "      <td>610.92</td>\n",
       "    </tr>\n",
       "    <tr>\n",
       "      <th>2016-09-14</th>\n",
       "      <td>608.82</td>\n",
       "    </tr>\n",
       "    <tr>\n",
       "      <th>2016-09-15</th>\n",
       "      <td>610.38</td>\n",
       "    </tr>\n",
       "  </tbody>\n",
       "</table>\n",
       "</div>"
      ],
      "text/plain": [
       "             Value\n",
       "Date              \n",
       "2016-09-11  621.65\n",
       "2016-09-12  609.67\n",
       "2016-09-13  610.92\n",
       "2016-09-14  608.82\n",
       "2016-09-15  610.38"
      ]
     },
     "execution_count": 100,
     "metadata": {},
     "output_type": "execute_result"
    }
   ],
   "source": [
    "# Read data from csv files\n",
    "\n",
    "bitcoin = pd.read_csv('../data/BCHAIN-MKPRU.csv', index_col='Date', parse_dates=True)\n",
    "bitcoin.head()"
   ]
  },
  {
   "cell_type": "code",
   "execution_count": 101,
   "metadata": {},
   "outputs": [
    {
     "data": {
      "text/html": [
       "<div>\n",
       "<style scoped>\n",
       "    .dataframe tbody tr th:only-of-type {\n",
       "        vertical-align: middle;\n",
       "    }\n",
       "\n",
       "    .dataframe tbody tr th {\n",
       "        vertical-align: top;\n",
       "    }\n",
       "\n",
       "    .dataframe thead th {\n",
       "        text-align: right;\n",
       "    }\n",
       "</style>\n",
       "<table border=\"1\" class=\"dataframe\">\n",
       "  <thead>\n",
       "    <tr style=\"text-align: right;\">\n",
       "      <th></th>\n",
       "      <th>Value</th>\n",
       "    </tr>\n",
       "    <tr>\n",
       "      <th>Date</th>\n",
       "      <th></th>\n",
       "    </tr>\n",
       "  </thead>\n",
       "  <tbody>\n",
       "    <tr>\n",
       "      <th>2016-09-12</th>\n",
       "      <td>1324.60</td>\n",
       "    </tr>\n",
       "    <tr>\n",
       "      <th>2016-09-13</th>\n",
       "      <td>1323.65</td>\n",
       "    </tr>\n",
       "    <tr>\n",
       "      <th>2016-09-14</th>\n",
       "      <td>1321.75</td>\n",
       "    </tr>\n",
       "    <tr>\n",
       "      <th>2016-09-15</th>\n",
       "      <td>1310.80</td>\n",
       "    </tr>\n",
       "    <tr>\n",
       "      <th>2016-09-16</th>\n",
       "      <td>1308.35</td>\n",
       "    </tr>\n",
       "  </tbody>\n",
       "</table>\n",
       "</div>"
      ],
      "text/plain": [
       "              Value\n",
       "Date               \n",
       "2016-09-12  1324.60\n",
       "2016-09-13  1323.65\n",
       "2016-09-14  1321.75\n",
       "2016-09-15  1310.80\n",
       "2016-09-16  1308.35"
      ]
     },
     "execution_count": 101,
     "metadata": {},
     "output_type": "execute_result"
    }
   ],
   "source": [
    "gold = pd.read_csv('../data/LBMA-GOLD.csv', index_col='Date', parse_dates=True)\n",
    "gold.columns = ['Value']\n",
    "gold.head()"
   ]
  },
  {
   "cell_type": "code",
   "execution_count": 102,
   "metadata": {},
   "outputs": [
    {
     "data": {
      "text/plain": [
       "<AxesSubplot:xlabel='Date'>"
      ]
     },
     "execution_count": 102,
     "metadata": {},
     "output_type": "execute_result"
    },
    {
     "data": {
      "image/png": "[encoded data removed]",
      "text/plain": [
       "<Figure size 432x288 with 1 Axes>"
      ]
     },
     "metadata": {
      "needs_background": "light"
     },
     "output_type": "display_data"
    }
   ],
   "source": [
    "sns.lineplot(data=bitcoin)"
   ]
  },
  {
   "cell_type": "code",
   "execution_count": 103,
   "metadata": {},
   "outputs": [
    {
     "data": {
      "text/plain": [
       "<AxesSubplot:xlabel='Date'>"
      ]
     },
     "execution_count": 103,
     "metadata": {},
     "output_type": "execute_result"
    },
    {
     "data": {
      "image/png": "[encoded data removed]",
      "text/plain": [
       "<Figure size 432x288 with 1 Axes>"
      ]
     },
     "metadata": {
      "needs_background": "light"
     },
     "output_type": "display_data"
    }
   ],
   "source": [
    "sns.lineplot(data=gold)"
   ]
  },
  {
   "cell_type": "code",
   "execution_count": 99,
   "metadata": {},
   "outputs": [
    {
     "data": {
      "text/plain": [
       "[<matplotlib.lines.Line2D at 0x7f0de0894b50>]"
      ]
     },
     "execution_count": 99,
     "metadata": {},
     "output_type": "execute_result"
    },
    {
     "data": {
      "image/png": "[encoded data removed]",
      "text/plain": [
       "<Figure size 432x288 with 1 Axes>"
      ]
     },
     "metadata": {
      "needs_background": "light"
     },
     "output_type": "display_data"
    }
   ],
   "source": [
    "current_money = 1000\n",
    "gold_rate, bit_rate = 0, 0\n"
   ]
  },
  {
   "cell_type": "code",
   "execution_count": 15,
   "metadata": {},
   "outputs": [
    {
     "data": {
      "text/html": [
       "<div>\n",
       "<style scoped>\n",
       "    .dataframe tbody tr th:only-of-type {\n",
       "        vertical-align: middle;\n",
       "    }\n",
       "\n",
       "    .dataframe tbody tr th {\n",
       "        vertical-align: top;\n",
       "    }\n",
       "\n",
       "    .dataframe thead th {\n",
       "        text-align: right;\n",
       "    }\n",
       "</style>\n",
       "<table border=\"1\" class=\"dataframe\">\n",
       "  <thead>\n",
       "    <tr style=\"text-align: right;\">\n",
       "      <th></th>\n",
       "      <th>Value</th>\n",
       "    </tr>\n",
       "  </thead>\n",
       "  <tbody>\n",
       "    <tr>\n",
       "      <th>2016-09-12</th>\n",
       "      <td>1324.60</td>\n",
       "    </tr>\n",
       "    <tr>\n",
       "      <th>2016-09-13</th>\n",
       "      <td>1323.65</td>\n",
       "    </tr>\n",
       "    <tr>\n",
       "      <th>2016-09-14</th>\n",
       "      <td>1321.75</td>\n",
       "    </tr>\n",
       "    <tr>\n",
       "      <th>2016-09-15</th>\n",
       "      <td>1310.80</td>\n",
       "    </tr>\n",
       "    <tr>\n",
       "      <th>2016-09-16</th>\n",
       "      <td>1308.35</td>\n",
       "    </tr>\n",
       "    <tr>\n",
       "      <th>...</th>\n",
       "      <td>...</td>\n",
       "    </tr>\n",
       "    <tr>\n",
       "      <th>2021-09-06</th>\n",
       "      <td>1821.60</td>\n",
       "    </tr>\n",
       "    <tr>\n",
       "      <th>2021-09-07</th>\n",
       "      <td>1802.15</td>\n",
       "    </tr>\n",
       "    <tr>\n",
       "      <th>2021-09-08</th>\n",
       "      <td>1786.00</td>\n",
       "    </tr>\n",
       "    <tr>\n",
       "      <th>2021-09-09</th>\n",
       "      <td>1788.25</td>\n",
       "    </tr>\n",
       "    <tr>\n",
       "      <th>2021-09-10</th>\n",
       "      <td>1794.60</td>\n",
       "    </tr>\n",
       "  </tbody>\n",
       "</table>\n",
       "<p>1825 rows × 1 columns</p>\n",
       "</div>"
      ],
      "text/plain": [
       "              Value\n",
       "2016-09-12  1324.60\n",
       "2016-09-13  1323.65\n",
       "2016-09-14  1321.75\n",
       "2016-09-15  1310.80\n",
       "2016-09-16  1308.35\n",
       "...             ...\n",
       "2021-09-06  1821.60\n",
       "2021-09-07  1802.15\n",
       "2021-09-08  1786.00\n",
       "2021-09-09  1788.25\n",
       "2021-09-10  1794.60\n",
       "\n",
       "[1825 rows x 1 columns]"
      ]
     },
     "execution_count": 15,
     "metadata": {},
     "output_type": "execute_result"
    }
   ],
   "source": [
    "\n",
    "all_index = pd.date_range('2016-9-12', '2021-9-10', freq='D')\n",
    "gold = gold.reindex(all_index)\n",
    "gold.fillna(inplace=True, method='pad')\n",
    "gold"
   ]
  },
  {
   "cell_type": "code",
   "execution_count": 31,
   "metadata": {},
   "outputs": [],
   "source": [
    "b = data_gen.parse_df(bitcoin[1:], 4)\n",
    "g = data_gen.parse_df(gold, 4)"
   ]
  },
  {
   "cell_type": "code",
   "execution_count": 32,
   "metadata": {},
   "outputs": [
    {
     "data": {
      "text/html": [
       "<div>\n",
       "<style scoped>\n",
       "    .dataframe tbody tr th:only-of-type {\n",
       "        vertical-align: middle;\n",
       "    }\n",
       "\n",
       "    .dataframe tbody tr th {\n",
       "        vertical-align: top;\n",
       "    }\n",
       "\n",
       "    .dataframe thead th {\n",
       "        text-align: right;\n",
       "    }\n",
       "</style>\n",
       "<table border=\"1\" class=\"dataframe\">\n",
       "  <thead>\n",
       "    <tr style=\"text-align: right;\">\n",
       "      <th></th>\n",
       "      <th>high</th>\n",
       "      <th>low</th>\n",
       "      <th>open</th>\n",
       "      <th>close</th>\n",
       "    </tr>\n",
       "    <tr>\n",
       "      <th>Date</th>\n",
       "      <th></th>\n",
       "      <th></th>\n",
       "      <th></th>\n",
       "      <th></th>\n",
       "    </tr>\n",
       "  </thead>\n",
       "  <tbody>\n",
       "    <tr>\n",
       "      <th>2016-09-12</th>\n",
       "      <td>610.92</td>\n",
       "      <td>608.82</td>\n",
       "      <td>609.67</td>\n",
       "      <td>610.38</td>\n",
       "    </tr>\n",
       "    <tr>\n",
       "      <th>2016-09-16</th>\n",
       "      <td>610.92</td>\n",
       "      <td>608.82</td>\n",
       "      <td>610.92</td>\n",
       "      <td>609.11</td>\n",
       "    </tr>\n",
       "    <tr>\n",
       "      <th>2016-09-20</th>\n",
       "      <td>610.38</td>\n",
       "      <td>607.04</td>\n",
       "      <td>608.82</td>\n",
       "      <td>607.04</td>\n",
       "    </tr>\n",
       "    <tr>\n",
       "      <th>2016-09-24</th>\n",
       "      <td>611.58</td>\n",
       "      <td>607.04</td>\n",
       "      <td>610.38</td>\n",
       "      <td>611.58</td>\n",
       "    </tr>\n",
       "    <tr>\n",
       "      <th>2016-09-28</th>\n",
       "      <td>611.58</td>\n",
       "      <td>607.04</td>\n",
       "      <td>609.11</td>\n",
       "      <td>610.19</td>\n",
       "    </tr>\n",
       "  </tbody>\n",
       "</table>\n",
       "</div>"
      ],
      "text/plain": [
       "              high     low    open   close\n",
       "Date                                      \n",
       "2016-09-12  610.92  608.82  609.67  610.38\n",
       "2016-09-16  610.92  608.82  610.92  609.11\n",
       "2016-09-20  610.38  607.04  608.82  607.04\n",
       "2016-09-24  611.58  607.04  610.38  611.58\n",
       "2016-09-28  611.58  607.04  609.11  610.19"
      ]
     },
     "execution_count": 32,
     "metadata": {},
     "output_type": "execute_result"
    }
   ],
   "source": [
    "b.head()"
   ]
  },
  {
   "cell_type": "code",
   "execution_count": 33,
   "metadata": {},
   "outputs": [
    {
     "data": {
      "text/html": [
       "<div>\n",
       "<style scoped>\n",
       "    .dataframe tbody tr th:only-of-type {\n",
       "        vertical-align: middle;\n",
       "    }\n",
       "\n",
       "    .dataframe tbody tr th {\n",
       "        vertical-align: top;\n",
       "    }\n",
       "\n",
       "    .dataframe thead th {\n",
       "        text-align: right;\n",
       "    }\n",
       "</style>\n",
       "<table border=\"1\" class=\"dataframe\">\n",
       "  <thead>\n",
       "    <tr style=\"text-align: right;\">\n",
       "      <th></th>\n",
       "      <th>high</th>\n",
       "      <th>low</th>\n",
       "      <th>open</th>\n",
       "      <th>close</th>\n",
       "    </tr>\n",
       "  </thead>\n",
       "  <tbody>\n",
       "    <tr>\n",
       "      <th>2016-09-12</th>\n",
       "      <td>1324.60</td>\n",
       "      <td>1310.80</td>\n",
       "      <td>1324.60</td>\n",
       "      <td>1310.80</td>\n",
       "    </tr>\n",
       "    <tr>\n",
       "      <th>2016-09-16</th>\n",
       "      <td>1323.65</td>\n",
       "      <td>1308.35</td>\n",
       "      <td>1323.65</td>\n",
       "      <td>1308.35</td>\n",
       "    </tr>\n",
       "    <tr>\n",
       "      <th>2016-09-20</th>\n",
       "      <td>1321.75</td>\n",
       "      <td>1308.35</td>\n",
       "      <td>1321.75</td>\n",
       "      <td>1308.35</td>\n",
       "    </tr>\n",
       "    <tr>\n",
       "      <th>2016-09-24</th>\n",
       "      <td>1310.80</td>\n",
       "      <td>1308.35</td>\n",
       "      <td>1310.80</td>\n",
       "      <td>1308.35</td>\n",
       "    </tr>\n",
       "    <tr>\n",
       "      <th>2016-09-28</th>\n",
       "      <td>1314.85</td>\n",
       "      <td>1308.35</td>\n",
       "      <td>1308.35</td>\n",
       "      <td>1314.85</td>\n",
       "    </tr>\n",
       "  </tbody>\n",
       "</table>\n",
       "</div>"
      ],
      "text/plain": [
       "               high      low     open    close\n",
       "2016-09-12  1324.60  1310.80  1324.60  1310.80\n",
       "2016-09-16  1323.65  1308.35  1323.65  1308.35\n",
       "2016-09-20  1321.75  1308.35  1321.75  1308.35\n",
       "2016-09-24  1310.80  1308.35  1310.80  1308.35\n",
       "2016-09-28  1314.85  1308.35  1308.35  1314.85"
      ]
     },
     "execution_count": 33,
     "metadata": {},
     "output_type": "execute_result"
    }
   ],
   "source": [
    "g.head()"
   ]
  },
  {
   "cell_type": "code",
   "execution_count": 34,
   "metadata": {},
   "outputs": [
    {
     "data": {
      "text/plain": [
       "456"
      ]
     },
     "execution_count": 34,
     "metadata": {},
     "output_type": "execute_result"
    }
   ],
   "source": [
    "len(b)"
   ]
  },
  {
   "cell_type": "code",
   "execution_count": 35,
   "metadata": {},
   "outputs": [
    {
     "data": {
      "text/plain": [
       "456"
      ]
     },
     "execution_count": 35,
     "metadata": {},
     "output_type": "execute_result"
    }
   ],
   "source": [
    "len(g)"
   ]
  },
  {
   "cell_type": "code",
   "execution_count": 41,
   "metadata": {},
   "outputs": [
    {
     "data": {
      "text/html": [
       "<div>\n",
       "<style scoped>\n",
       "    .dataframe tbody tr th:only-of-type {\n",
       "        vertical-align: middle;\n",
       "    }\n",
       "\n",
       "    .dataframe tbody tr th {\n",
       "        vertical-align: top;\n",
       "    }\n",
       "\n",
       "    .dataframe thead tr th {\n",
       "        text-align: left;\n",
       "    }\n",
       "</style>\n",
       "<table border=\"1\" class=\"dataframe\">\n",
       "  <thead>\n",
       "    <tr>\n",
       "      <th>Price</th>\n",
       "      <th colspan=\"4\" halign=\"left\">gold</th>\n",
       "      <th colspan=\"4\" halign=\"left\">btc</th>\n",
       "    </tr>\n",
       "    <tr>\n",
       "      <th>Feature</th>\n",
       "      <th>high</th>\n",
       "      <th>low</th>\n",
       "      <th>open</th>\n",
       "      <th>close</th>\n",
       "      <th>high</th>\n",
       "      <th>low</th>\n",
       "      <th>open</th>\n",
       "      <th>close</th>\n",
       "    </tr>\n",
       "  </thead>\n",
       "  <tbody>\n",
       "    <tr>\n",
       "      <th>2016-09-12</th>\n",
       "      <td>1324.60</td>\n",
       "      <td>1310.80</td>\n",
       "      <td>1324.60</td>\n",
       "      <td>1310.80</td>\n",
       "      <td>610.92000</td>\n",
       "      <td>608.820</td>\n",
       "      <td>609.67000</td>\n",
       "      <td>610.38000</td>\n",
       "    </tr>\n",
       "    <tr>\n",
       "      <th>2016-09-16</th>\n",
       "      <td>1323.65</td>\n",
       "      <td>1308.35</td>\n",
       "      <td>1323.65</td>\n",
       "      <td>1308.35</td>\n",
       "      <td>610.92000</td>\n",
       "      <td>608.820</td>\n",
       "      <td>610.92000</td>\n",
       "      <td>609.11000</td>\n",
       "    </tr>\n",
       "    <tr>\n",
       "      <th>2016-09-20</th>\n",
       "      <td>1321.75</td>\n",
       "      <td>1308.35</td>\n",
       "      <td>1321.75</td>\n",
       "      <td>1308.35</td>\n",
       "      <td>610.38000</td>\n",
       "      <td>607.040</td>\n",
       "      <td>608.82000</td>\n",
       "      <td>607.04000</td>\n",
       "    </tr>\n",
       "    <tr>\n",
       "      <th>2016-09-24</th>\n",
       "      <td>1310.80</td>\n",
       "      <td>1308.35</td>\n",
       "      <td>1310.80</td>\n",
       "      <td>1308.35</td>\n",
       "      <td>611.58000</td>\n",
       "      <td>607.040</td>\n",
       "      <td>610.38000</td>\n",
       "      <td>611.58000</td>\n",
       "    </tr>\n",
       "    <tr>\n",
       "      <th>2016-09-28</th>\n",
       "      <td>1314.85</td>\n",
       "      <td>1308.35</td>\n",
       "      <td>1308.35</td>\n",
       "      <td>1314.85</td>\n",
       "      <td>611.58000</td>\n",
       "      <td>607.040</td>\n",
       "      <td>609.11000</td>\n",
       "      <td>610.19000</td>\n",
       "    </tr>\n",
       "    <tr>\n",
       "      <th>...</th>\n",
       "      <td>...</td>\n",
       "      <td>...</td>\n",
       "      <td>...</td>\n",
       "      <td>...</td>\n",
       "      <td>...</td>\n",
       "      <td>...</td>\n",
       "      <td>...</td>\n",
       "      <td>...</td>\n",
       "    </tr>\n",
       "    <tr>\n",
       "      <th>2021-08-21</th>\n",
       "      <td>1255.00</td>\n",
       "      <td>1250.65</td>\n",
       "      <td>1255.00</td>\n",
       "      <td>1250.65</td>\n",
       "      <td>16860.88000</td>\n",
       "      <td>14869.805</td>\n",
       "      <td>16501.97167</td>\n",
       "      <td>14869.80500</td>\n",
       "    </tr>\n",
       "    <tr>\n",
       "      <th>2021-08-25</th>\n",
       "      <td>1250.65</td>\n",
       "      <td>1247.15</td>\n",
       "      <td>1250.65</td>\n",
       "      <td>1247.15</td>\n",
       "      <td>16860.88000</td>\n",
       "      <td>14869.805</td>\n",
       "      <td>16860.88000</td>\n",
       "      <td>15068.95000</td>\n",
       "    </tr>\n",
       "    <tr>\n",
       "      <th>2021-08-29</th>\n",
       "      <td>1250.65</td>\n",
       "      <td>1240.90</td>\n",
       "      <td>1250.65</td>\n",
       "      <td>1240.90</td>\n",
       "      <td>17276.39333</td>\n",
       "      <td>14869.805</td>\n",
       "      <td>15142.83415</td>\n",
       "      <td>17276.39333</td>\n",
       "    </tr>\n",
       "    <tr>\n",
       "      <th>2021-09-02</th>\n",
       "      <td>1250.65</td>\n",
       "      <td>1240.90</td>\n",
       "      <td>1250.65</td>\n",
       "      <td>1242.65</td>\n",
       "      <td>17276.39333</td>\n",
       "      <td>14869.805</td>\n",
       "      <td>14869.80500</td>\n",
       "      <td>16808.36667</td>\n",
       "    </tr>\n",
       "    <tr>\n",
       "      <th>2021-09-06</th>\n",
       "      <td>1251.00</td>\n",
       "      <td>1240.90</td>\n",
       "      <td>1247.15</td>\n",
       "      <td>1251.00</td>\n",
       "      <td>17276.39333</td>\n",
       "      <td>15068.950</td>\n",
       "      <td>15068.95000</td>\n",
       "      <td>16252.31000</td>\n",
       "    </tr>\n",
       "  </tbody>\n",
       "</table>\n",
       "<p>456 rows × 8 columns</p>\n",
       "</div>"
      ],
      "text/plain": [
       "Price          gold                                     btc             \\\n",
       "Feature        high      low     open    close         high        low   \n",
       "2016-09-12  1324.60  1310.80  1324.60  1310.80    610.92000    608.820   \n",
       "2016-09-16  1323.65  1308.35  1323.65  1308.35    610.92000    608.820   \n",
       "2016-09-20  1321.75  1308.35  1321.75  1308.35    610.38000    607.040   \n",
       "2016-09-24  1310.80  1308.35  1310.80  1308.35    611.58000    607.040   \n",
       "2016-09-28  1314.85  1308.35  1308.35  1314.85    611.58000    607.040   \n",
       "...             ...      ...      ...      ...          ...        ...   \n",
       "2021-08-21  1255.00  1250.65  1255.00  1250.65  16860.88000  14869.805   \n",
       "2021-08-25  1250.65  1247.15  1250.65  1247.15  16860.88000  14869.805   \n",
       "2021-08-29  1250.65  1240.90  1250.65  1240.90  17276.39333  14869.805   \n",
       "2021-09-02  1250.65  1240.90  1250.65  1242.65  17276.39333  14869.805   \n",
       "2021-09-06  1251.00  1240.90  1247.15  1251.00  17276.39333  15068.950   \n",
       "\n",
       "Price                                 \n",
       "Feature            open        close  \n",
       "2016-09-12    609.67000    610.38000  \n",
       "2016-09-16    610.92000    609.11000  \n",
       "2016-09-20    608.82000    607.04000  \n",
       "2016-09-24    610.38000    611.58000  \n",
       "2016-09-28    609.11000    610.19000  \n",
       "...                 ...          ...  \n",
       "2021-08-21  16501.97167  14869.80500  \n",
       "2021-08-25  16860.88000  15068.95000  \n",
       "2021-08-29  15142.83415  17276.39333  \n",
       "2021-09-02  14869.80500  16808.36667  \n",
       "2021-09-06  15068.95000  16252.31000  \n",
       "\n",
       "[456 rows x 8 columns]"
      ]
     },
     "execution_count": 41,
     "metadata": {},
     "output_type": "execute_result"
    }
   ],
   "source": [
    "port = [['gold', 'btc'],['high', 'low', 'open', 'close']]\n",
    "\n",
    "m_index = pd.MultiIndex.from_product(port, names=['Price', 'Feature'])\n",
    "\n",
    "s = pd.concat((g, b), axis=1)\n",
    "s.columns = m_index\n",
    "s"
   ]
  }
 ],
 "metadata": {
  "interpreter": {
   "hash": "37735a1691a3d1db4ec9af091dea987be77e469c17f14e1619da2b1f08d9c68d"
  },
  "kernelspec": {
   "display_name": "Python 3.9.7 ('base')",
   "language": "python",
   "name": "python3"
  },
  "language_info": {
   "codemirror_mode": {
    "name": "ipython",
    "version": 3
   },
   "file_extension": ".py",
   "mimetype": "text/x-python",
   "name": "python",
   "nbconvert_exporter": "python",
   "pygments_lexer": "ipython3",
   "version": "3.9.7"
  },
  "orig_nbformat": 4
 },
 "nbformat": 4,
 "nbformat_minor": 2
}
