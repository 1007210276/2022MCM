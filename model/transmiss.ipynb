{
 "cells": [
  {
   "cell_type": "code",
   "execution_count": 25,
   "metadata": {},
   "outputs": [
    {
     "data": {
      "text/plain": [
       "[<matplotlib.lines.Line2D at 0x7fc9192b4850>]"
      ]
     },
     "execution_count": 25,
     "metadata": {},
     "output_type": "execute_result"
    },
    {
     "data": {
      "image/png": "[encoded data removed]",
      "text/plain": [
       "<Figure size 432x288 with 1 Axes>"
      ]
     },
     "metadata": {
      "needs_background": "light"
     },
     "output_type": "display_data"
    }
   ],
   "source": [
    "c, g, b = 0.5, 0.2, 0.3\n",
    "c_, g_, b_ = 0, 0.4, 0.6\n",
    "\n",
    "pg, pb = 9, 31\n",
    "pg_, pb_ = 10, 30\n",
    "\n",
    "rho = 1000\n",
    "\n",
    "def rrho_(rho_):\n",
    "    dg = (rho_ * g_ / pg_ - rho * g / pg)\n",
    "    db = (rho_ * b_ / pb_ - rho * b / pb)\n",
    "    cg = 0.3\n",
    "    cb = 0.5\n",
    "    if dg > 0:\n",
    "        dg /= (1 - cg)\n",
    "    else:\n",
    "        dg *= (1 - cg)\n",
    "    \n",
    "    if db > 0:\n",
    "        db /= (1 - cb)\n",
    "    else:\n",
    "        db *= (1 - cb)\n",
    "\n",
    "    return pg_ *  dg + pb_ * db + (rho_ * c_ - rho * c)\n",
    "\n",
    "\n",
    "\n",
    "import numpy as np\n",
    "from matplotlib import pyplot as plt\n",
    "\n",
    "rho_ = np.linspace(0, 5000, 100000)\n",
    "\n",
    "y = [rrho_(rho_[i]) for i in range(len(rho_))]\n",
    "\n",
    "plt.plot(rho_, y)"
   ]
  }
 ],
 "metadata": {
  "interpreter": {
   "hash": "37735a1691a3d1db4ec9af091dea987be77e469c17f14e1619da2b1f08d9c68d"
  },
  "kernelspec": {
   "display_name": "Python 3.9.7 ('base')",
   "language": "python",
   "name": "python3"
  },
  "language_info": {
   "codemirror_mode": {
    "name": "ipython",
    "version": 3
   },
   "file_extension": ".py",
   "mimetype": "text/x-python",
   "name": "python",
   "nbconvert_exporter": "python",
   "pygments_lexer": "ipython3",
   "version": "3.9.7"
  },
  "orig_nbformat": 4
 },
 "nbformat": 4,
 "nbformat_minor": 2
}
